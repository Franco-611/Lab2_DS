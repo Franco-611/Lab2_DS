{
 "cells": [
  {
   "cell_type": "markdown",
   "metadata": {},
   "source": [
    "## 1.1 - Precios Promedio Nacionales Diarios"
   ]
  },
  {
   "cell_type": "markdown",
   "metadata": {},
   "source": [
    "# Laboratorio 2 - Series de tiempo\n",
    "- Diego Jose Franco 20240\n",
    "- Juan Diego Avila 20090"
   ]
  },
  {
   "cell_type": "code",
   "execution_count": null,
   "metadata": {},
   "outputs": [],
   "source": [
    "\n",
    "años_dict = {\n",
    "    '00': '2000', '01': '2001', '02': '2002', '03': '2003', '04': '2004', '05': '2005',\n",
    "    '06': '2006', '07': '2007', '08': '2008', '09': '2009', '10': '2010', '11': '2011',\n",
    "    '12': '2012', '13': '2013', '14': '2014', '15': '2015', '16': '2016', '17': '2017',\n",
    "    '18': '2018', '19': '2019', '20': '2020', '21': '2021', '22': '2022', '23': '2023',\n",
    "}\n",
    "\n",
    "meses_dict = {\n",
    "    'ene': '01', 'feb': '02', 'mar': '03', 'abr': '04', 'may': '05', 'jun': '06',\n",
    "    'jul': '07', 'ago': '08', 'sep': '09', 'oct': '10', 'nov': '11', 'dic': '12'\n",
    "}\n",
    "\n",
    "def reemplazar_mes(fecha):\n",
    "    partes = fecha.split('-')\n",
    "    partes[0] = meses_dict[partes[0]]\n",
    "    partes[1] = años_dict[partes[1]]\n",
    "    return '-'.join(partes)\n",
    "\n",
    "consumo['Fecha'] = consumo['Fecha'].apply(reemplazar_mes)\n",
    "\n",
    "consumo['Fecha'] = pd.to_datetime(consumo['Fecha'], format='%m-%Y')"
   ]
  },
  {
   "cell_type": "code",
   "execution_count": null,
   "metadata": {},
   "outputs": [],
   "source": [
    "\n",
    "consumo['AÑO'] = consumo['Fecha'].dt.year\n",
    "consumo['MES'] = consumo['Fecha'].dt.month\n",
    "\n",
    "grupo = consumo.groupby(['AÑO']).mean()\n",
    "\n",
    "tendencia = grupo[cuantitativas]\n",
    "tendencia = tendencia.reset_index()\n",
    "\n",
    "plt.figure(figsize=(10, 6))\n",
    "\n",
    "for columna in cuantitativas:\n",
    "    plt.plot(tendencia[\"AÑO\"], tendencia[columna], label=columna)\n",
    "\n",
    "plt.xlabel('Año')\n",
    "plt.ylabel('Consumo Promedio')\n",
    "plt.title('Tendencia de Consumo por año')\n",
    "plt.legend()\n",
    "\n",
    "plt.tight_layout()\n",
    "plt.show()"
   ]
  },
  {
   "cell_type": "code",
   "execution_count": null,
   "metadata": {},
   "outputs": [],
   "source": [
    "grupo = consumo.groupby(['MES']).mean()\n",
    "\n",
    "tendencia = grupo[cuantitativas]\n",
    "tendencia = tendencia.reset_index()\n",
    "\n",
    "plt.figure(figsize=(10, 6))\n",
    "\n",
    "for columna in cuantitativas:\n",
    "    plt.plot(tendencia[\"MES\"], tendencia[columna], label=columna)\n",
    "\n",
    "plt.xlabel('Mes')\n",
    "plt.ylabel('Precio Promedio')\n",
    "plt.title('Tendencia de consumo por mes')\n",
    "plt.legend()\n",
    "\n",
    "plt.tight_layout()\n",
    "plt.show()"
   ]
  },
  {
   "cell_type": "code",
   "execution_count": null,
   "metadata": {},
   "outputs": [],
   "source": [
    "import pandas as pd\n",
    "import seaborn as sns\n",
    "import matplotlib.pyplot as plt\n",
    "\n",
    "\n",
    "# Cargamos los datos\n",
    "precios_promedio_2021 = pd.read_csv('./Data/Precios-Promedio-Nacionales-Diarios-2021.csv')\n",
    "precios_promedio_2022 = pd.read_csv('./Data/Precios-Promedio-Nacionales-Diarios-2022.csv')\n",
    "precios_promedio_2023 = pd.read_csv('./Data/Precios-Promedio-Nacionales-Diarios-2023.csv')\n",
    "\n",
    "# Se renombra la ultima columna a Glp Cilindro Lbs.\n",
    "precios_promedio_2021.rename(columns={'Unnamed: 7': 'Glp Cilindro Lbs.'}, inplace=True)\n",
    "precios_promedio_2022.rename(columns={'Unnamed: 7': 'Glp Cilindro Lbs.'}, inplace=True)\n",
    "precios_promedio_2023.rename(columns={'Unnamed: 7': 'Glp Cilindro Lbs.'}, inplace=True)\n",
    "\n",
    "# Se unen los tres dataframes en uno solo\n",
    "precios_promedio = pd.concat([precios_promedio_2021, precios_promedio_2022, precios_promedio_2023])\n",
    "\n",
    "# Se eliminan las columnas que no se van a utilizar\n",
    "precios_promedio = precios_promedio.drop(columns=['Bunker'])"
   ]
  },
  {
   "cell_type": "markdown",
   "metadata": {},
   "source": [
    "### Analisis exploratorio"
   ]
  },
  {
   "cell_type": "code",
   "execution_count": null,
   "metadata": {},
   "outputs": [],
   "source": [
    "precios_promedio.head()"
   ]
  },
  {
   "cell_type": "code",
   "execution_count": null,
   "metadata": {},
   "outputs": [],
   "source": [
    "precios_promedio.info()"
   ]
  },
  {
   "cell_type": "code",
   "execution_count": null,
   "metadata": {},
   "outputs": [],
   "source": [
    "precios_promedio.describe()"
   ]
  },
  {
   "cell_type": "code",
   "execution_count": null,
   "metadata": {},
   "outputs": [],
   "source": [
    "print(precios_promedio.isnull().sum())"
   ]
  },
  {
   "cell_type": "code",
   "execution_count": null,
   "metadata": {},
   "outputs": [],
   "source": [
    "cuantitativas = [\n",
    "    \"Tipo de Cambio\",\n",
    "    \"Superior\",\n",
    "    \"Regular\",\n",
    "    \"Diesel\",\n",
    "    \"Glp Cilindro 25Lbs.\",\n",
    "    \"Glp Cilindro Lbs.\"\n",
    "]\n",
    "\n",
    "precios_promedio_cuantitativas = precios_promedio[cuantitativas]\n",
    "cr = precios_promedio_cuantitativas.corr()\n",
    "sns.heatmap(cr, annot=True, cmap=\"YlGnBu\")\n",
    "plt.show()"
   ]
  },
  {
   "cell_type": "code",
   "execution_count": null,
   "metadata": {},
   "outputs": [],
   "source": [
    "precios_promedio_cuantitativas.reset_index(drop=True, inplace=True)\n",
    "\n",
    "grid = sns.pairplot(precios_promedio_cuantitativas)\n",
    "plt.show()"
   ]
  },
  {
   "cell_type": "code",
   "execution_count": null,
   "metadata": {},
   "outputs": [],
   "source": [
    "for col in cuantitativas:\n",
    "    sns.boxplot(x = precios_promedio[col])\n",
    "    plt.show()"
   ]
  },
  {
   "cell_type": "code",
   "execution_count": null,
   "metadata": {},
   "outputs": [],
   "source": [
    "meses_dict = {\n",
    "    'ene': '01', 'feb': '02', 'mar': '03', 'abr': '04', 'may': '05', 'jun': '06',\n",
    "    'jul': '07', 'ago': '08', 'sep': '09', 'oct': '10', 'nov': '11', 'dic': '12'\n",
    "}\n",
    "\n",
    "def reemplazar_mes(fecha):\n",
    "    partes = fecha.split('-')\n",
    "    partes[1] = meses_dict[partes[1]]\n",
    "    return '-'.join(partes)\n",
    "\n",
    "precios_promedio['FECHA'] = precios_promedio['FECHA'].apply(reemplazar_mes)\n",
    "print(precios_promedio['FECHA'])\n",
    "    \n",
    "\n",
    "precios_promedio['FECHA'] = pd.to_datetime(precios_promedio['FECHA'], format='%d-%m-%y')\n",
    "precios_promedio['AÑO'] = precios_promedio['FECHA'].dt.year\n",
    "precios_promedio['MES'] = precios_promedio['FECHA'].dt.month\n",
    "\n",
    "grupo = precios_promedio.groupby(['AÑO']).mean()\n",
    "\n",
    "tendencia = grupo[cuantitativas]\n",
    "tendencia = tendencia.reset_index()\n",
    "\n",
    "plt.figure(figsize=(10, 6))\n",
    "\n",
    "for columna in cuantitativas:\n",
    "    plt.plot(tendencia[\"AÑO\"], tendencia[columna], label=columna)\n",
    "\n",
    "plt.xlabel('Año')\n",
    "plt.ylabel('Precio Promedio')\n",
    "plt.title('Tendencia de Precios de Gasolina por Año')\n",
    "plt.legend()\n",
    "\n",
    "plt.tight_layout()\n",
    "plt.show()"
   ]
  },
  {
   "cell_type": "code",
   "execution_count": null,
   "metadata": {},
   "outputs": [],
   "source": [
    "grupo = precios_promedio.groupby(['MES']).mean()\n",
    "\n",
    "tendencia = grupo[cuantitativas]\n",
    "tendencia = tendencia.reset_index()\n",
    "\n",
    "plt.figure(figsize=(10, 6))\n",
    "\n",
    "for columna in cuantitativas:\n",
    "    plt.plot(tendencia[\"MES\"], tendencia[columna], label=columna)\n",
    "\n",
    "plt.xlabel('Mes')\n",
    "plt.ylabel('Precio Promedio')\n",
    "plt.title('Tendencia de Precios de Gasolina por Mes')\n",
    "plt.legend()\n",
    "\n",
    "plt.tight_layout()\n",
    "plt.show()"
   ]
  },
  {
   "cell_type": "code",
   "execution_count": null,
   "metadata": {},
   "outputs": [],
   "source": [
    "from scipy.stats import normaltest\n",
    "\n",
    "norm = precios_promedio_cuantitativas.apply(normaltest)\n",
    "print(\"Resultados de test de normalidad: \\n\", norm)"
   ]
  },
  {
   "cell_type": "markdown",
   "metadata": {},
   "source": [
    "## 1.2 - Consumo de Combustible"
   ]
  },
  {
   "cell_type": "markdown",
   "metadata": {},
   "source": [
    "### Carga de datos"
   ]
  },
  {
   "cell_type": "code",
   "execution_count": null,
   "metadata": {},
   "outputs": [],
   "source": [
    "import numpy as np\n",
    "import pandas as pd\n",
    "\n",
    "# Cargamos los datos\n",
    "consumo = pd.read_csv('./Data/CONSUMO.csv')"
   ]
  },
  {
   "cell_type": "markdown",
   "metadata": {},
   "source": [
    "### Analisis exploratorio"
   ]
  },
  {
   "cell_type": "code",
   "execution_count": null,
   "metadata": {},
   "outputs": [],
   "source": [
    "consumo.head()"
   ]
  },
  {
   "cell_type": "code",
   "execution_count": null,
   "metadata": {},
   "outputs": [],
   "source": [
    "consumo.info()"
   ]
  },
  {
   "cell_type": "code",
   "execution_count": null,
   "metadata": {},
   "outputs": [],
   "source": [
    "consumo.describe()"
   ]
  },
  {
   "cell_type": "code",
   "execution_count": null,
   "metadata": {},
   "outputs": [],
   "source": [
    "import pandas as pd\n",
    "import matplotlib.pyplot as plt\n",
    "import seaborn as sns\n",
    "\n",
    "cuantitativas = [\"Gasolina regular\", \"Gasolina superior\", \"Diesel alto azufre\", \"Gas licuado de petróleo\", \"Total\"]\n",
    "\n",
    "# casteamos las variables a float\n",
    "for col in cuantitativas:\n",
    "    consumo[col] = consumo[col].str.replace(',', '').astype(float)\n",
    "\n",
    "consumo_numericas = consumo[cuantitativas]\n",
    "correlation_matrix = consumo_numericas.corr()\n",
    "\n",
    "# Crear el diagrama de correlación utilizando Seaborn\n",
    "plt.figure(figsize=(10, 8))\n",
    "sns.heatmap(correlation_matrix, annot=True, cmap='coolwarm', fmt='.2f', linewidths=0.5)\n",
    "plt.title('Diagrama de Correlación')\n",
    "plt.show()"
   ]
  },
  {
   "cell_type": "code",
   "execution_count": null,
   "metadata": {},
   "outputs": [],
   "source": [
    "for col in cuantitativas:\n",
    "    sns.boxplot(x = consumo_numericas[col])\n",
    "    plt.show()"
   ]
  },
  {
   "cell_type": "code",
   "execution_count": null,
   "metadata": {},
   "outputs": [],
   "source": [
    "grid = sns.pairplot(consumo_numericas)\n",
    "plt.show()"
   ]
  },
  {
   "cell_type": "code",
   "execution_count": null,
   "metadata": {},
   "outputs": [],
   "source": [
    "from scipy.stats import normaltest\n",
    "normality_test = consumo_numericas.apply(normaltest)\n",
    "print(\"Resultados de test de normalidad: \\n\", normality_test)"
   ]
  },
  {
   "cell_type": "markdown",
   "metadata": {},
   "source": [
    "Ninguna de las distribuciones de las variables interesantes es normal."
   ]
  },
  {
   "cell_type": "code",
   "execution_count": null,
   "metadata": {},
   "outputs": [],
   "source": [
    "print(\"Info de importacion:\")\n",
    "# Cargamos los datos\n",
    "importacion = pd.read_csv('./Data/IMPORTACION.csv')\n"
   ]
  },
  {
   "cell_type": "code",
   "execution_count": null,
   "metadata": {},
   "outputs": [],
   "source": [
    "importacion.head()\n"
   ]
  },
  {
   "cell_type": "markdown",
   "metadata": {},
   "source": [
    "## Análisis exploratorio"
   ]
  },
  {
   "cell_type": "code",
   "execution_count": null,
   "metadata": {},
   "outputs": [],
   "source": []
  },
  {
   "cell_type": "markdown",
   "metadata": {},
   "source": [
    "### Carga de datos"
   ]
  }
 ],
 "metadata": {
  "kernelspec": {
   "display_name": "Python 3",
   "language": "python",
   "name": "python3"
  },
  "language_info": {
   "codemirror_mode": {
    "name": "ipython",
    "version": 3
   },
   "file_extension": ".py",
   "mimetype": "text/x-python",
   "name": "python",
   "nbconvert_exporter": "python",
   "pygments_lexer": "ipython3",
   "version": "3.11.1"
  },
  "orig_nbformat": 4
 },
 "nbformat": 4,
 "nbformat_minor": 2
}
